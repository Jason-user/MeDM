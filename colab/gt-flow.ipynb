{
 "cells": [
  {
   "cell_type": "code",
   "execution_count": null,
   "id": "f42d1f9f-bcf7-4cda-bf1f-5961416a302f",
   "metadata": {
    "tags": []
   },
   "outputs": [],
   "source": [
    "gpu_id = 1"
   ]
  },
  {
   "cell_type": "code",
   "execution_count": null,
   "id": "b8c9bbf1-fc1a-4c2b-a057-9df6180fd1bb",
   "metadata": {
    "tags": []
   },
   "outputs": [],
   "source": [
    "from glob import glob\n",
    "from os import path\n",
    "from functools import partial\n",
    "import sys\n",
    "\n",
    "from diffusers import (\n",
    "    StableDiffusionControlNetPixelSharingPipeline,\n",
    "    ControlNetModel,\n",
    "    DDIMScheduler,\n",
    "    UniPCMultistepScheduler,\n",
    ")\n",
    "import numpy as np\n",
    "import torch, torchvision\n",
    "import torchvision.transforms.functional as F\n",
    "from torchvision.utils import flow_to_image\n",
    "import tensorflow_docs.vis.embed as embed\n",
    "from PIL import Image\n",
    "import matplotlib.pyplot as plt\n",
    "from tqdm.auto import tqdm\n",
    "\n",
    "sys.path.append('scripts')\n",
    "from datasets import get_sintel_data, get_vkitti2_data\n",
    "\n",
    "def to_h264(video):\n",
    "    '''\n",
    "    enforce even dimension, input BHWC\n",
    "    '''\n",
    "    if video.shape[1] % 2 != 0:\n",
    "        video = torch.cat((video, torch.zeros(*video.shape[:1], 1, *video.shape[2:])), dim=1)\n",
    "        \n",
    "    if video.shape[2] % 2 != 0:\n",
    "        video = torch.cat((video, torch.zeros(*video.shape[:2], 1, *video.shape[3:])), dim=2)\n",
    "        \n",
    "    return video"
   ]
  },
  {
   "cell_type": "code",
   "execution_count": null,
   "id": "7b7ef6ea-ac88-4465-b451-7698d9a06996",
   "metadata": {},
   "outputs": [],
   "source": [
    "start_frame = 0\n",
    "num_frames = 10\n",
    "fps = 5\n",
    "\n",
    "data = get_sintel_data('./sintel', 'bandage_2', start_frame, num_frames)\n",
    "# data = get_vkitti2_data('./vkitti2', 'Scene01', start_frame, num_frames)\n",
    "\n",
    "rgbs = data['rgbs']\n",
    "flows = data['flows']\n",
    "occlusions = data['occlusions']\n",
    "conds = data['conds']\n",
    "backward_coding = not data['is_backward_flow']"
   ]
  },
  {
   "cell_type": "code",
   "execution_count": null,
   "id": "49a80571-c406-4fe3-b10b-86c92e02e82f",
   "metadata": {},
   "outputs": [],
   "source": [
    "H, W = conds.shape[-2:]\n",
    "if H < W:\n",
    "    H_512, W_512 = 512, int(512 * W / H)\n",
    "else:\n",
    "    H_512, W_512 = int(512 * H / W), 512\n",
    "# H_512, W_512 = H, W\n",
    "H_q8 = (H_512 // 8) * 8\n",
    "W_q8 = (W_512 // 8) * 8\n",
    "rgbs = torch.nn.functional.interpolate(rgbs, (H_q8, W_q8), mode='bilinear')\n",
    "conds = torch.nn.functional.interpolate(conds, (H_q8, W_q8), mode='bilinear')"
   ]
  },
  {
   "cell_type": "code",
   "execution_count": null,
   "id": "7b08a23d-5102-43ee-a227-7fb08b3e7cb1",
   "metadata": {
    "tags": []
   },
   "outputs": [],
   "source": [
    "viz = torch.cat((\n",
    "    flow_to_image(flows.permute(0, 3, 1, 2)).permute(0, 2, 3, 1),\n",
    "    occlusions.unsqueeze(-1).repeat(1, 1, 1, 3) * 255,\n",
    "), dim=2)\n",
    "viz = torch.cat((\n",
    "    viz,\n",
    "    torch.nn.functional.interpolate(conds[1:], (H*2, W*2), mode='bilinear', antialias=True).permute(0, 2, 3, 1) * 255,\n",
    "    torch.nn.functional.interpolate(rgbs[1:], (H*2, W*2), mode='bilinear', antialias=True).permute(0, 2, 3, 1) * 255,\n",
    "), dim=1)\n",
    "viz.shape"
   ]
  },
  {
   "cell_type": "code",
   "execution_count": null,
   "id": "fe1a4c50-2d16-4796-9a3a-f491bff1e17e",
   "metadata": {
    "tags": []
   },
   "outputs": [],
   "source": [
    "torchvision.io.write_video('media/combined.mp4', to_h264(viz), fps, options={'crf': '18'})\n",
    "embed.embed_file('media/combined.mp4')"
   ]
  },
  {
   "cell_type": "code",
   "execution_count": null,
   "id": "50f53fca-df6a-491b-a6b9-20aed7115987",
   "metadata": {},
   "outputs": [],
   "source": [
    "from controlnet_aux import LineartDetector\n",
    "processor = LineartDetector.from_pretrained(\"lllyasviel/Annotators\")\n",
    "processor_partial = partial(processor, coarse=False)\n",
    "\n",
    "processor.to(f'cuda:{gpu_id}')\n",
    "pred_conds = []\n",
    "for cond in conds.permute(0, 2, 3, 1) * 255:\n",
    "    pred_conds.append(processor_partial(cond, output_type='np'))\n",
    "pred_conds = np.stack(pred_conds)\n",
    "pred_conds = torch.from_numpy(pred_conds).permute(0, 3, 1, 2) / 255\n",
    "pred_conds = torch.nn.functional.interpolate(pred_conds, conds.shape[-2:], mode='bilinear')\n",
    "processor.to('cpu')\n",
    "\n",
    "conds = pred_conds"
   ]
  },
  {
   "cell_type": "code",
   "execution_count": null,
   "id": "295e3676-31ea-4a7c-b4a0-e1d3a8f801c9",
   "metadata": {},
   "outputs": [],
   "source": [
    "torchvision.io.write_video('media/lineart.mp4', conds.permute(0, 2, 3, 1) * 255, fps, options={'crf': '18'})\n",
    "embed.embed_file('media/lineart.mp4')"
   ]
  },
  {
   "cell_type": "code",
   "execution_count": null,
   "id": "eb76b2f6-7880-4118-800a-7a20b18138d8",
   "metadata": {
    "tags": []
   },
   "outputs": [],
   "source": [
    "print(flows.shape)\n",
    "print(occlusions.shape)\n",
    "print(conds.shape)"
   ]
  },
  {
   "cell_type": "code",
   "execution_count": null,
   "id": "22a47ec8-be04-42cc-ba2a-6085d81d59b5",
   "metadata": {
    "tags": []
   },
   "outputs": [],
   "source": [
    "controlnet = ControlNetModel.from_pretrained(\n",
    "    # \"./hf-models/control_v11p_sd15_normalbae\",\n",
    "    # \"./hf-models/control_v11p_sd15_openpose\",\n",
    "    \"./hf-models/control_v11p_sd15_lineart\",\n",
    "    # \"./hf-models/control_v11f1p_sd15_depth\",\n",
    "    torch_dtype=torch.float16\n",
    ")\n",
    "\n",
    "\n",
    "# ckpt = './hf-models/stable-diffusion-v1-5'\n",
    "ckpt = './hf-models/majicmixRealistic_betterV2V25'\n",
    "# ckpt = './hf-models/majicmixRealistic_v6/'\n",
    "# ckpt = './hf-models/xxmix9realistic'\n",
    "\n",
    "scheduler = DDIMScheduler.from_pretrained(ckpt, subfolder=\"scheduler\")\n",
    "# scheduler = UniPCMultistepScheduler.from_pretrained(ckpt, subfolder=\"scheduler\")\n",
    "\n",
    "pipe = StableDiffusionControlNetPixelSharingPipeline.from_pretrained(\n",
    "    ckpt, controlnet=controlnet,\n",
    "    scheduler=scheduler, safety_checker=None, requires_safety_checker=False,\n",
    "    torch_dtype=torch.float16\n",
    ")\n",
    "pipe.enable_xformers_memory_efficient_attention()\n",
    "_ = pipe.to(f'cuda:{gpu_id}')\n",
    "# pipe.load_lora_weights(\"./civitai\", weight_name=\"./bronze_statue.safetensors\")"
   ]
  },
  {
   "cell_type": "code",
   "execution_count": null,
   "id": "9d739f98-5571-4807-9a3f-5790da4899c7",
   "metadata": {
    "tags": []
   },
   "outputs": [],
   "source": [
    "kernel_width=10"
   ]
  },
  {
   "cell_type": "raw",
   "id": "df14964b-b941-461e-9351-f7276d765785",
   "metadata": {},
   "source": [
    "from diffusers.pipelines.controlnet.pipeline_controlnet_pixel_sharing import FlowCoding\n",
    "mixer = FlowCoding(\n",
    "    flows=flows[None],\n",
    "    occlusions=occlusions[None],\n",
    "    mix_mode='global_average', # global_average | convolution\n",
    "    kernel_width=kernel_width,\n",
    "    average_small_bucket=True,\n",
    "    \n",
    "    warp_mode='nearest',\n",
    "    small_bucket_threshold=0.5,\n",
    "    backward_coding=backward_coding,\n",
    ")"
   ]
  },
  {
   "cell_type": "code",
   "execution_count": null,
   "id": "088fdd0e-aa82-4a00-bcd5-46486ea26a9b",
   "metadata": {
    "tags": []
   },
   "outputs": [],
   "source": [
    "std=0.5\n",
    "kernel = torch.signal.windows.gaussian(kernel_width, std=std*kernel_width)\n",
    "kernel /= kernel.sum()\n",
    "plt.plot(kernel)"
   ]
  },
  {
   "cell_type": "code",
   "execution_count": null,
   "id": "a9d2aacd-ba1f-442e-95f3-e48bb0353690",
   "metadata": {
    "tags": []
   },
   "outputs": [],
   "source": [
    "output = pipe(\n",
    "    # original_image=rgbs[None],\n",
    "    # strength=0.9,\n",
    "    image=conds[None],\n",
    "    prompt='',\n",
    "    negative_prompt='pink, spring, flower, chinese, baby',\n",
    "    generator=torch.manual_seed(1234567),\n",
    "    num_inference_steps=20,\n",
    "    output_type='pt',\n",
    "    cpu_offload_text_encoder=True,\n",
    "    unet_batch_size=10,\n",
    "    vae_batch_size=10,\n",
    "    harmonization_scale=0.8,\n",
    "    kernel=kernel,\n",
    "    guess_mode=True,\n",
    "    \n",
    "    # mixer=mixer,\n",
    "    flows=flows[None],\n",
    "    occlusions=occlusions[None],\n",
    "    mix_mode='global_average', # global_average | convolution\n",
    "    kernel_width=kernel_width,\n",
    "    average_small_bucket=True,\n",
    "    backward_coding=backward_coding,\n",
    ")\n",
    "\n",
    "video = output.images\n",
    "\n",
    "video = torch.nn.functional.interpolate(video, (H, W), mode='bilinear')\n",
    "video *= 255\n",
    "torchvision.io.write_video('media/vcn.mp4', to_h264(video.permute(0, 2, 3, 1).cpu()), fps, options={'crf': '18'})\n",
    "embed.embed_file('media/vcn.mp4')"
   ]
  },
  {
   "cell_type": "code",
   "execution_count": null,
   "id": "834d52f6-94e7-426b-ad7e-568880aa485a",
   "metadata": {},
   "outputs": [],
   "source": [
    "output.timer"
   ]
  },
  {
   "cell_type": "code",
   "execution_count": null,
   "id": "99f74f9a-6b66-4e6f-8ab8-d0055bd56c3e",
   "metadata": {},
   "outputs": [],
   "source": []
  }
 ],
 "metadata": {
  "kernelspec": {
   "display_name": "Python 3 (ipykernel)",
   "language": "python",
   "name": "python3"
  },
  "language_info": {
   "codemirror_mode": {
    "name": "ipython",
    "version": 3
   },
   "file_extension": ".py",
   "mimetype": "text/x-python",
   "name": "python",
   "nbconvert_exporter": "python",
   "pygments_lexer": "ipython3",
   "version": "3.10.11"
  }
 },
 "nbformat": 4,
 "nbformat_minor": 5
}
