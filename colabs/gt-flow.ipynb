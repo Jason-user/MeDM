{
 "cells": [
  {
   "cell_type": "code",
   "execution_count": 1,
   "id": "fdd30f0e-5fdd-4beb-a0e9-75e3bb98bf0c",
   "metadata": {},
   "outputs": [
    {
     "name": "stdout",
     "output_type": "stream",
     "text": [
      "mkdir: cannot create directory ‘tmp’: File exists\n"
     ]
    }
   ],
   "source": [
    "!mkdir tmp"
   ]
  },
  {
   "cell_type": "code",
   "execution_count": null,
   "id": "f42d1f9f-bcf7-4cda-bf1f-5961416a302f",
   "metadata": {
    "tags": []
   },
   "outputs": [],
   "source": [
    "gpu_id = 8"
   ]
  },
  {
   "cell_type": "code",
   "execution_count": null,
   "id": "b8c9bbf1-fc1a-4c2b-a057-9df6180fd1bb",
   "metadata": {
    "tags": []
   },
   "outputs": [],
   "source": [
    "from glob import glob\n",
    "from os import path\n",
    "from functools import partial\n",
    "import sys\n",
    "\n",
    "from diffusers import (\n",
    "    StableDiffusionControlNetMeDMPipeline,\n",
    "    ControlNetModel,\n",
    "    DDIMScheduler,\n",
    ")\n",
    "import numpy as np\n",
    "import torch, torchvision\n",
    "import torchvision.transforms.functional as F\n",
    "from torchvision.utils import flow_to_image\n",
    "import tensorflow_docs.vis.embed as embed\n",
    "from PIL import Image\n",
    "import matplotlib.pyplot as plt\n",
    "from tqdm.auto import tqdm\n",
    "\n",
    "sys.path.append('../scripts')\n",
    "from datasets import get_sintel_data, get_vkitti2_data\n",
    "\n",
    "def to_h264(video):\n",
    "    '''\n",
    "    enforce even dimension, input BHWC\n",
    "    '''\n",
    "    if video.shape[1] % 2 != 0:\n",
    "        video = torch.cat((video, torch.zeros(*video.shape[:1], 1, *video.shape[2:])), dim=1)\n",
    "        \n",
    "    if video.shape[2] % 2 != 0:\n",
    "        video = torch.cat((video, torch.zeros(*video.shape[:2], 1, *video.shape[3:])), dim=2)\n",
    "        \n",
    "    return video"
   ]
  },
  {
   "cell_type": "markdown",
   "id": "b3eafd32-4fa4-4459-8a82-18522dfeae65",
   "metadata": {},
   "source": [
    "### Adjust `num_frames` to process a longer video (with longer inference time)"
   ]
  },
  {
   "cell_type": "code",
   "execution_count": null,
   "id": "7b7ef6ea-ac88-4465-b451-7698d9a06996",
   "metadata": {},
   "outputs": [],
   "source": [
    "start_frame = 0\n",
    "num_frames = 10\n",
    "fps = 5\n",
    "\n",
    "data = get_sintel_data('../sintel', 'bandage_2', start_frame, num_frames)\n",
    "\n",
    "rgbs = data['rgbs']\n",
    "flows = data['flows']\n",
    "occlusions = data['occlusions']\n",
    "conds = data['conds']\n",
    "backward_coding = not data['is_backward_flow']"
   ]
  },
  {
   "cell_type": "code",
   "execution_count": null,
   "id": "49a80571-c406-4fe3-b10b-86c92e02e82f",
   "metadata": {},
   "outputs": [],
   "source": [
    "H, W = conds.shape[-2:]\n",
    "if H < W:\n",
    "    H_512, W_512 = 512, int(512 * W / H)\n",
    "else:\n",
    "    H_512, W_512 = int(512 * H / W), 512\n",
    "# H_512, W_512 = H, W\n",
    "H_q8 = (H_512 // 8) * 8\n",
    "W_q8 = (W_512 // 8) * 8\n",
    "rgbs = torch.nn.functional.interpolate(rgbs, (H_q8, W_q8), mode='bilinear')\n",
    "conds = torch.nn.functional.interpolate(conds, (H_q8, W_q8), mode='bilinear')"
   ]
  },
  {
   "cell_type": "code",
   "execution_count": null,
   "id": "7b08a23d-5102-43ee-a227-7fb08b3e7cb1",
   "metadata": {
    "tags": []
   },
   "outputs": [],
   "source": [
    "viz = torch.cat((\n",
    "    flow_to_image(flows.permute(0, 3, 1, 2)).permute(0, 2, 3, 1),\n",
    "    occlusions.unsqueeze(-1).repeat(1, 1, 1, 3) * 255,\n",
    "), dim=2)\n",
    "viz = torch.cat((\n",
    "    viz,\n",
    "    torch.nn.functional.interpolate(conds[1:], (H*2, W*2), mode='bilinear', antialias=True).permute(0, 2, 3, 1) * 255,\n",
    "    torch.nn.functional.interpolate(rgbs[1:], (H*2, W*2), mode='bilinear', antialias=True).permute(0, 2, 3, 1) * 255,\n",
    "), dim=1)\n",
    "viz.shape"
   ]
  },
  {
   "cell_type": "code",
   "execution_count": null,
   "id": "fe1a4c50-2d16-4796-9a3a-f491bff1e17e",
   "metadata": {
    "tags": []
   },
   "outputs": [],
   "source": [
    "torchvision.io.write_video('tmp/combined.mp4', to_h264(viz), fps, options={'crf': '18'})\n",
    "embed.embed_file('tmp/combined.mp4')"
   ]
  },
  {
   "cell_type": "code",
   "execution_count": null,
   "id": "50f53fca-df6a-491b-a6b9-20aed7115987",
   "metadata": {},
   "outputs": [],
   "source": [
    "from controlnet_aux import LineartDetector\n",
    "processor = LineartDetector.from_pretrained(\"lllyasviel/Annotators\")\n",
    "processor_partial = partial(processor, coarse=False)\n",
    "\n",
    "processor.to(f'cuda:{gpu_id}')\n",
    "pred_conds = []\n",
    "for cond in conds.permute(0, 2, 3, 1) * 255:\n",
    "    pred_conds.append(processor_partial(cond, output_type='np'))\n",
    "pred_conds = np.stack(pred_conds)\n",
    "pred_conds = torch.from_numpy(pred_conds).permute(0, 3, 1, 2) / 255\n",
    "pred_conds = torch.nn.functional.interpolate(pred_conds, conds.shape[-2:], mode='bilinear')\n",
    "processor.to('cpu')\n",
    "\n",
    "conds = pred_conds"
   ]
  },
  {
   "cell_type": "code",
   "execution_count": null,
   "id": "295e3676-31ea-4a7c-b4a0-e1d3a8f801c9",
   "metadata": {},
   "outputs": [],
   "source": [
    "torchvision.io.write_video('tmp/lineart.mp4', conds.permute(0, 2, 3, 1) * 255, fps, options={'crf': '18'})\n",
    "embed.embed_file('tmp/lineart.mp4')"
   ]
  },
  {
   "cell_type": "code",
   "execution_count": null,
   "id": "eb76b2f6-7880-4118-800a-7a20b18138d8",
   "metadata": {
    "tags": []
   },
   "outputs": [],
   "source": [
    "print(flows.shape)\n",
    "print(occlusions.shape)\n",
    "print(conds.shape)"
   ]
  },
  {
   "cell_type": "code",
   "execution_count": null,
   "id": "22a47ec8-be04-42cc-ba2a-6085d81d59b5",
   "metadata": {
    "tags": []
   },
   "outputs": [],
   "source": [
    "controlnet = ControlNetModel.from_pretrained(\n",
    "    \"lllyasviel/control_v11p_sd15_lineart\",\n",
    "    torch_dtype=torch.float16\n",
    ")\n",
    "\n",
    "ckpt = 'ernestchu/majicmixRealistic_betterV2V25'\n",
    "\n",
    "scheduler = DDIMScheduler.from_pretrained(ckpt, subfolder=\"scheduler\")\n",
    "\n",
    "pipe = StableDiffusionControlNetMeDMPipeline.from_pretrained(\n",
    "    ckpt, controlnet=controlnet,\n",
    "    scheduler=scheduler, safety_checker=None, requires_safety_checker=False,\n",
    "    torch_dtype=torch.float16\n",
    ")\n",
    "pipe.enable_xformers_memory_efficient_attention()\n",
    "_ = pipe.to(f'cuda:{gpu_id}')"
   ]
  },
  {
   "cell_type": "code",
   "execution_count": null,
   "id": "a9d2aacd-ba1f-442e-95f3-e48bb0353690",
   "metadata": {
    "tags": []
   },
   "outputs": [],
   "source": [
    "pipe_partial = partial(pipe,\n",
    "    image=conds[None],\n",
    "    prompt='',\n",
    "    generator=torch.manual_seed(1314520),\n",
    "    num_inference_steps=20,\n",
    "    output_type='pt',\n",
    "    cpu_offload_text_encoder=True,\n",
    "    unet_batch_size=5,\n",
    "    vae_batch_size=5,\n",
    "    harmonization_scale=0.8,\n",
    "    guess_mode=True,\n",
    "    flows=flows[None],\n",
    "    occlusions=occlusions[None],\n",
    ")\n",
    "\n",
    "output = pipe_partial()\n",
    "video = output.images"
   ]
  },
  {
   "cell_type": "code",
   "execution_count": null,
   "id": "1b3ea7ec-68f3-45bc-ad07-6d2b2f090b00",
   "metadata": {
    "tags": []
   },
   "outputs": [],
   "source": [
    "video = torch.nn.functional.interpolate(video, (H, W), mode='bilinear')\n",
    "video *= 255\n",
    "torchvision.io.write_video('tmp/vcn.mp4', to_h264(video.permute(0, 2, 3, 1).cpu()), fps, options={'crf': '18'})\n",
    "embed.embed_file('tmp/vcn.mp4')"
   ]
  },
  {
   "cell_type": "code",
   "execution_count": null,
   "id": "834d52f6-94e7-426b-ad7e-568880aa485a",
   "metadata": {},
   "outputs": [],
   "source": [
    "output.timer"
   ]
  },
  {
   "cell_type": "code",
   "execution_count": null,
   "id": "99f74f9a-6b66-4e6f-8ab8-d0055bd56c3e",
   "metadata": {},
   "outputs": [],
   "source": [
    "output = pipe_partial(\n",
    "    original_image=rgbs[None],\n",
    "    strength=0.5,\n",
    ")\n",
    "video = output.images"
   ]
  },
  {
   "cell_type": "code",
   "execution_count": null,
   "id": "ab1ea769-5b1b-4458-aa5b-0affe6ad9b43",
   "metadata": {
    "tags": []
   },
   "outputs": [],
   "source": [
    "video = torch.nn.functional.interpolate(video, (H, W), mode='bilinear')\n",
    "video *= 255\n",
    "torchvision.io.write_video('tmp/vcn.mp4', to_h264(video.permute(0, 2, 3, 1).cpu()), fps, options={'crf': '18'})\n",
    "embed.embed_file('tmp/vcn.mp4')"
   ]
  },
  {
   "cell_type": "code",
   "execution_count": null,
   "id": "2eaa3d8a-6f58-4a0d-b8f3-cf4e55eae103",
   "metadata": {
    "tags": []
   },
   "outputs": [],
   "source": [
    "output.timer"
   ]
  },
  {
   "cell_type": "code",
   "execution_count": null,
   "id": "54b6f110-b177-4af3-adb8-855c6a22eb43",
   "metadata": {},
   "outputs": [],
   "source": []
  }
 ],
 "metadata": {
  "kernelspec": {
   "display_name": "Python 3 (ipykernel)",
   "language": "python",
   "name": "python3"
  },
  "language_info": {
   "codemirror_mode": {
    "name": "ipython",
    "version": 3
   },
   "file_extension": ".py",
   "mimetype": "text/x-python",
   "name": "python",
   "nbconvert_exporter": "python",
   "pygments_lexer": "ipython3",
   "version": "3.10.12"
  }
 },
 "nbformat": 4,
 "nbformat_minor": 5
}
